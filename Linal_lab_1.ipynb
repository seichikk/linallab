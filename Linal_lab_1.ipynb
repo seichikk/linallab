{
  "nbformat": 4,
  "nbformat_minor": 0,
  "metadata": {
    "colab": {
      "provenance": [],
      "include_colab_link": true
    },
    "kernelspec": {
      "name": "python3",
      "display_name": "Python 3"
    },
    "language_info": {
      "name": "python"
    }
  },
  "cells": [
    {
      "cell_type": "markdown",
      "metadata": {
        "id": "view-in-github",
        "colab_type": "text"
      },
      "source": [
        "<a href=\"https://colab.research.google.com/github/seichikk/linallab/blob/main/Linal_lab_1.ipynb\" target=\"_parent\"><img src=\"https://colab.research.google.com/assets/colab-badge.svg\" alt=\"Open In Colab\"/></a>"
      ]
    },
    {
      "cell_type": "markdown",
      "source": [
        "# **Лабораторная работа №1. Principle Component Analysis**\n",
        "**Выполнили:**  \n",
        "- Марковский Артём Владиславович, ИСУ: 466636, группа J3110  \n",
        "- Бровкин Аким Алексеевич , ИСУ: 465282, группа J3110  \n",
        "\n",
        "\n",
        "\n",
        "---\n",
        "\n"
      ],
      "metadata": {
        "id": "2d1Cp_iUEdP9"
      }
    },
    {
      "cell_type": "markdown",
      "source": [
        "#**Класс матриц для удобства**"
      ],
      "metadata": {
        "id": "3nTEGzABO-6p"
      }
    },
    {
      "cell_type": "code",
      "source": [
        "import random\n",
        "import math\n",
        "import csv\n",
        "from typing import List, Union, Callable, Tuple, Dict, Any\n",
        "from math import isclose\n",
        "from sklearn import datasets\n",
        "from sklearn.model_selection import train_test_split\n",
        "from sklearn.neighbors import KNeighborsClassifier\n",
        "from sklearn.metrics import accuracy_score\n",
        "from math import isnan\n",
        "from IPython.display import display\n",
        "from matplotlib.figure import Figure\n",
        "class Matrix:\n",
        "\n",
        "    def __init__(self, data: List[List[float]]):\n",
        "        self.rows = len(data)\n",
        "        self.cols = len(data[0]) if self.rows > 0 else 0\n",
        "        self.data = data\n",
        "        self._validate()\n",
        "\n",
        "    def _validate(self):\n",
        "        \"\"\"Проверка корректности размеров\"\"\"\n",
        "        for row in self.data:\n",
        "            if len(row) != self.cols:\n",
        "                raise ValueError(\"Некорректные размеры матрицы\")\n",
        "\n",
        "    def __getitem__(self, index):\n",
        "        return self.data[index]\n",
        "\n",
        "    def __repr__(self):\n",
        "        return \"\\n\".join([\"\\t\".join(map(\"{:.4f}\".format, row)) for row in self.data])\n",
        "\n",
        "    def copy(self):\n",
        "        \"\"\"Глубокая копия матрицы\"\"\"\n",
        "        return Matrix([row.copy() for row in self.data])\n",
        "\n",
        "    def swap_rows(self, row1: int, row2: int):\n",
        "        \"\"\"Перестановка строк\"\"\"\n",
        "        self.data[row1], self.data[row2] = self.data[row2], self.data[row1]\n",
        "\n",
        "    def normalize_row(self, row: int, pivot_col: int):\n",
        "        \"\"\"Нормировка строки по ведущему элементу\"\"\"\n",
        "        pivot = self[row][pivot_col]\n",
        "        self.data[row] = [x / pivot for x in self[row]]\n",
        "\n",
        "    def subtract_row(self, target_row: int, source_row: int, factor: float):\n",
        "        \"\"\"Вычитание строки с коэффициентом\"\"\"\n",
        "        self.data[target_row] = [x - factor * self[source_row][i] for i, x in enumerate(self[target_row])]\n",
        "\n",
        "    def transpose_data(self):\n",
        "      \"\"\"Транспозиция матрицы\"\"\"\n",
        "      transposed = []\n",
        "      for i in range(self.cols):\n",
        "        temporary = []\n",
        "        for j in range(self.rows):\n",
        "          temporary.append(self.data[j][i])\n",
        "        transposed.append(temporary)\n",
        "      return Matrix(transposed)\n",
        "\n",
        "    def multiply(self, other: 'Matrix') -> 'Matrix':\n",
        "        \"\"\"Умножение матриц\"\"\"\n",
        "        if not isinstance(other, Matrix):\n",
        "            raise TypeError(\"Можно умножать только на объект Matrix\")\n",
        "        if self.cols != other.rows:\n",
        "            raise ValueError(\n",
        "                \"Несовместимые размеры\"\n",
        "            )\n",
        "\n",
        "        result_data = []\n",
        "        for i in range(self.rows):\n",
        "            row = []\n",
        "            for j in range(other.cols):\n",
        "                element = sum(\n",
        "                    self.data[i][k] * other.data[k][j]\n",
        "                    for k in range(self.cols)\n",
        "                )\n",
        "                row.append(element)\n",
        "            result_data.append(row)\n",
        "\n",
        "        return Matrix(result_data)\n",
        "\n",
        "    def multiply_scalar(self, scalar: Union[int, float]) -> 'Matrix':\n",
        "        \"\"\"Умножение матрицы на скаляр\"\"\"\n",
        "        if not isinstance(scalar, (int, float)):\n",
        "            raise TypeError(\"Скаляр должен быть int или float\")\n",
        "\n",
        "        new_data = [\n",
        "            [element * scalar for element in row]\n",
        "            for row in self.data\n",
        "        ]\n",
        "        return Matrix(new_data)\n",
        "\n",
        "    def minor(self, k: int):\n",
        "      \"\"\"Вычисление минора матрицы\"\"\"\n",
        "      res = []\n",
        "      for r in self.data[1:]:\n",
        "        row = []\n",
        "        for j in range(len(r)):\n",
        "          if j != k:\n",
        "            row.append(r[j])\n",
        "        res.append(row)\n",
        "      return res\n",
        "\n",
        "    def determinant(self):\n",
        "      \"\"\"Вычисление определителя матрицы\"\"\"\n",
        "      n = self.rows\n",
        "      if n == 2:\n",
        "        return self.data[0][0] * self.data[1][1] - self.data[0][1] * self.data[1][0]\n",
        "      det = 0\n",
        "      sign = 1\n",
        "      for i in range(n):\n",
        "        det += sign * self.data[0][i] * Matrix(self.minor(i)).determinant()\n",
        "        sign = -sign\n",
        "      return det\n",
        "\n",
        "    def add(self, other: 'Matrix') -> 'Matrix':\n",
        "      \"\"\"Поэлементное сложение матриц.\"\"\"\n",
        "      if self.rows != other.rows or self.cols != other.cols:\n",
        "          raise ValueError(\"Матрицы должны быть одного размера\")\n",
        "      new_data = [\n",
        "          [self.data[i][j] + other.data[i][j] for j in range(self.cols)]\n",
        "          for i in range(self.rows)\n",
        "      ]\n",
        "      return Matrix(new_data)\n",
        "\n",
        "    def __sub__(self, other: 'Matrix') -> 'Matrix':\n",
        "      \"\"\"Вычитание матриц\"\"\"\n",
        "      if not isinstance(other, Matrix):\n",
        "          raise TypeError(\"Можно вычитать только объекты Matrix\")\n",
        "      if self.rows != other.rows or self.cols != other.cols:\n",
        "          raise ValueError(\"Матрицы должны быть одного размера\")\n",
        "      new_data = [\n",
        "          [self.data[i][j] - other.data[i][j] for j in range(self.cols)]\n",
        "          for i in range(self.rows)\n",
        "      ]\n",
        "      return Matrix(new_data)\n",
        "\n",
        "    @staticmethod\n",
        "    def identity(n: int) -> 'Matrix':\n",
        "      \"\"\"Создание единичной матрицы\"\"\"\n",
        "      data = [[1.0 if i == j else 0.0 for j in range(n)] for i in range(n)]\n",
        "      return Matrix(data)\n",
        "\n",
        "    def characteristic_polynomial(self) -> Callable[[float], float]:\n",
        "      \"\"\"Характеристический многочлен\"\"\"\n",
        "      if self.rows != self.cols:\n",
        "          raise ValueError(\"Характеристический многочлен определен только для квадратных матриц\")\n",
        "      E = Matrix.identity(self.rows)\n",
        "      def poly(x: float) -> float:\n",
        "          lambda_E = E.multiply_scalar(x)\n",
        "          A_minus_lambda_E = self - lambda_E\n",
        "          return A_minus_lambda_E.determinant()\n",
        "      return poly\n",
        "\n",
        "    def _std(self) -> float:\n",
        "      \"\"\"Стандартное отклонение\"\"\"\n",
        "      if self.cols != 1:\n",
        "          raise ValueError(\"Стандартное отклонение определено только для векторов-столбцов\")\n",
        "      values = [self.data[i][0] for i in range(self.rows)]\n",
        "      n = len(values)\n",
        "      mean = sum(values) / n\n",
        "      variance = sum((x - mean) ** 2 for x in values) / (n - 1)\n",
        "      return math.sqrt(variance)"
      ],
      "metadata": {
        "id": "gDioDSvPTp4i"
      },
      "execution_count": null,
      "outputs": []
    },
    {
      "cell_type": "markdown",
      "source": [
        "# **Реализация метода Гаусса для решения СЛАУ**"
      ],
      "metadata": {
        "id": "s5noKtFvPEDT"
      }
    },
    {
      "cell_type": "code",
      "execution_count": null,
      "metadata": {
        "id": "h2S34Q7xs9QP"
      },
      "outputs": [],
      "source": [
        "def gauss_solver(A: Matrix, b: Matrix) -> List[Matrix]:\n",
        "    \"\"\"Метод гауса для решения Ax = b\"\"\"\n",
        "    # Проверка размеров\n",
        "    if A.rows != b.rows or b.cols != 1:\n",
        "        raise ValueError(\"Данные введены неверно\")\n",
        "\n",
        "    # Создаем расширенную матрицу [A|b]\n",
        "    aug_data = [A_row + b_row for A_row, b_row in zip(A.data, b.data)]\n",
        "    aug = Matrix(aug_data)\n",
        "    aug = aug.copy()  # Работаем с копией, чтобы не менять исходные данные\n",
        "\n",
        "    pivot_cols = []  # Список ведущих столбцов\n",
        "    rank = 0        # Ранг матрицы\n",
        "\n",
        "    # Преобразование к ступенчатому виду\n",
        "    for col in range(A.cols):\n",
        "        # Поиск максимального элемента в текущем столбце (для минимизации ошибок)\n",
        "        max_row, max_val = None, 0.0\n",
        "        for row in range(rank, aug.rows):\n",
        "            current_val = abs(aug[row][col])\n",
        "            if current_val > max_val:\n",
        "                max_val = current_val\n",
        "                max_row = row\n",
        "\n",
        "        # Если все элементы в столбце нулевые, то пропускаем столбец\n",
        "        if max_row is None or isclose(max_val, 0, abs_tol=1e-10):\n",
        "            continue\n",
        "\n",
        "        # Перестановка строк (ставим строку с максимальным элементом наверх)\n",
        "        aug.swap_rows(rank, max_row)\n",
        "\n",
        "        # Нормировка строки (делаем ведущий элемент равным 1)\n",
        "        aug.normalize_row(rank, col)\n",
        "\n",
        "        # Обнуление элементов под ведущим\n",
        "        for row in range(rank + 1, aug.rows):\n",
        "            factor = aug[row][col]  # Коэффициент для вычитания\n",
        "            aug.subtract_row(row, rank, factor)\n",
        "\n",
        "        pivot_cols.append(col)  # Запоминаем ведущий столбец\n",
        "        rank += 1               # Увеличиваем ранг\n",
        "\n",
        "    # Проверка на совместность системы\n",
        "    # Если есть строка [0, 0, ..., 0 | c], где c ≠ 0 -> система несовместна\n",
        "    for row in range(rank, aug.rows):\n",
        "        if not isclose(aug[row][-1], 0, abs_tol=1e-8):\n",
        "            raise ValueError(\"Система не имеет решений\")\n",
        "\n",
        "    # Обнуление элементов над ведущими\n",
        "    for i in reversed(range(rank)):\n",
        "        col = pivot_cols[i]\n",
        "        for row in range(i):\n",
        "            factor = aug[row][col]\n",
        "            aug.subtract_row(row, i, factor)\n",
        "\n",
        "    # Построение решений\n",
        "    free_vars = [c for c in range(A.cols) if c not in pivot_cols]  # Свободные переменные\n",
        "\n",
        "    # Частное решение (все свободные переменные = 0)\n",
        "    particular = [0.0] * A.cols\n",
        "    for i in range(rank):\n",
        "        particular[pivot_cols[i]] = aug[i][-1]\n",
        "\n",
        "    # Если нет свободных переменных -> единственное решение\n",
        "    if not free_vars:\n",
        "        return [Matrix([particular])]\n",
        "\n",
        "    # Базисные векторы для свободных переменных\n",
        "    basis = []\n",
        "    for free in free_vars:\n",
        "        vec = [0.0] * A.cols\n",
        "        vec[free] = 1.0  # Свободная переменная = 1\n",
        "        # Выражаем базисные переменные через свободные\n",
        "        for i in range(rank):\n",
        "            vec[pivot_cols[i]] = -aug[i][free]\n",
        "        basis.append(Matrix([vec]))\n",
        "\n",
        "    return [Matrix([particular])] + basis"
      ]
    },
    {
      "cell_type": "markdown",
      "source": [
        "# **Пример с единственным решением**"
      ],
      "metadata": {
        "id": "m6xko9HXPQnR"
      }
    },
    {
      "cell_type": "code",
      "source": [
        "# Создаем матрицы\n",
        "A = Matrix([[3,2,-1],\n",
        "           [2,-1,5],\n",
        "           [1,7,-1]\n",
        "])\n",
        "b = Matrix([[4],[23],[5]])\n",
        "\n",
        "# Решаем систему\n",
        "try:\n",
        "    solutions = gauss_solver(A, b)\n",
        "    print(\"Частное решение:\")\n",
        "    print(solutions[0])\n",
        "    if len(solutions) > 1:\n",
        "      print(\"\\nБазисные векторы:\")\n",
        "      for vec in solutions[1:]:\n",
        "          print(vec)\n",
        "except ValueError as e:\n",
        "    print(e)"
      ],
      "metadata": {
        "colab": {
          "base_uri": "https://localhost:8080/"
        },
        "id": "yeMURya8TyI-",
        "outputId": "ddb28a10-e7e6-45ee-ee0e-52ac94473f1d"
      },
      "execution_count": null,
      "outputs": [
        {
          "output_type": "stream",
          "name": "stdout",
          "text": [
            "Частное решение:\n",
            "2.0000\t1.0000\t4.0000\n"
          ]
        }
      ]
    },
    {
      "cell_type": "markdown",
      "source": [
        "# **Пример, где нет решений**"
      ],
      "metadata": {
        "id": "GdyqkxB4P6Tb"
      }
    },
    {
      "cell_type": "code",
      "source": [
        "# Создаем матрицы\n",
        "A = Matrix([\n",
        "    [3, 2, -1],\n",
        "    [2, -1, 5],\n",
        "    [2, -1, 5]\n",
        "])\n",
        "b = Matrix([[4], [23], [24]])\n",
        "\n",
        "# Решаем систему\n",
        "try:\n",
        "    solutions = gauss_solver(A, b)\n",
        "    print(\"Частное решение:\")\n",
        "    print(solutions[0])\n",
        "    if len(solutions) > 1:\n",
        "      print(\"\\nБазисные векторы:\")\n",
        "      for vec in solutions[1:]:\n",
        "          print(vec)\n",
        "except ValueError as e:\n",
        "    print(e)"
      ],
      "metadata": {
        "colab": {
          "base_uri": "https://localhost:8080/"
        },
        "id": "dWP0ILZ-Tu3u",
        "outputId": "321fe853-9cea-491b-a99e-23adb4b6e972"
      },
      "execution_count": null,
      "outputs": [
        {
          "output_type": "stream",
          "name": "stdout",
          "text": [
            "Система не имеет решений\n"
          ]
        }
      ]
    },
    {
      "cell_type": "markdown",
      "source": [
        "# **Пример, где решений бесконечное множество**"
      ],
      "metadata": {
        "id": "jK7_23T5QK5J"
      }
    },
    {
      "cell_type": "code",
      "source": [
        "# Создаем матрицы\n",
        "A = Matrix([\n",
        "    [2, -1, 5],\n",
        "    [2, -1, 5],\n",
        "    [2, -1, 5]\n",
        "])\n",
        "b = Matrix([[23], [23], [23]])\n",
        "\n",
        "# Решаем систему\n",
        "try:\n",
        "    solutions = gauss_solver(A, b)\n",
        "    print(\"Частное решение:\")\n",
        "    print(solutions[0])\n",
        "    if len(solutions) > 1:\n",
        "      print(\"\\nБазисные векторы:\")\n",
        "      for vec in solutions[1:]:\n",
        "          print(vec)\n",
        "except ValueError as e:\n",
        "    print(e)"
      ],
      "metadata": {
        "colab": {
          "base_uri": "https://localhost:8080/"
        },
        "id": "d4zZLdq3TycS",
        "outputId": "0d4e88f3-f202-4180-84e3-8870ed49710c"
      },
      "execution_count": null,
      "outputs": [
        {
          "output_type": "stream",
          "name": "stdout",
          "text": [
            "Частное решение:\n",
            "11.5000\t0.0000\t0.0000\n",
            "\n",
            "Базисные векторы:\n",
            "0.5000\t1.0000\t0.0000\n",
            "-2.5000\t0.0000\t1.0000\n"
          ]
        }
      ]
    },
    {
      "cell_type": "markdown",
      "source": [
        "# **Реализация функции центрирования данных**"
      ],
      "metadata": {
        "id": "0_LwITM4QThX"
      }
    },
    {
      "cell_type": "code",
      "source": [
        "def center_data(A: Matrix) -> Matrix:\n",
        "    # Определяем признаки, как транспонированную матрицу\n",
        "    features = A.transpose_data()\n",
        "    means = []\n",
        "    # Заполняем массив средних по формуле среднего арифметического\n",
        "    for feature_row in features.data:\n",
        "        mean = sum(feature_row) / len(feature_row)\n",
        "        means.append(mean)\n",
        "    # Создаем копию признаков\n",
        "    centered_features = features.copy()\n",
        "    for i in range(centered_features.rows):\n",
        "        for j in range(centered_features.cols):\n",
        "          # Вычитаем из каждого элемента соответствующее среднее\n",
        "            centered_features.data[i][j] -= means[i]\n",
        "    return centered_features.transpose_data()"
      ],
      "metadata": {
        "id": "gys8hbNvhCKo"
      },
      "execution_count": null,
      "outputs": []
    },
    {
      "cell_type": "markdown",
      "source": [
        "# **Пример центрирования данных матрицы**"
      ],
      "metadata": {
        "id": "wHYxRYHfQqHD"
      }
    },
    {
      "cell_type": "code",
      "source": [
        "B = Matrix([[1, 2, 3],\n",
        "     [4, 5, 6],\n",
        "     [7, 8, 9],\n",
        "     [10, 11, 12]])\n",
        "\n",
        "print(center_data(B))"
      ],
      "metadata": {
        "colab": {
          "base_uri": "https://localhost:8080/"
        },
        "id": "CC9I7pBUk0er",
        "outputId": "3a45b92f-44b7-46c3-b5b1-b314e379da63"
      },
      "execution_count": null,
      "outputs": [
        {
          "output_type": "stream",
          "name": "stdout",
          "text": [
            "-4.5000\t-4.5000\t-4.5000\n",
            "-1.5000\t-1.5000\t-1.5000\n",
            "1.5000\t1.5000\t1.5000\n",
            "4.5000\t4.5000\t4.5000\n"
          ]
        }
      ]
    },
    {
      "cell_type": "markdown",
      "source": [
        "# **Реализация функции вычисления матрицы ковариаций**"
      ],
      "metadata": {
        "id": "wZrvneAcQq0a"
      }
    },
    {
      "cell_type": "code",
      "source": [
        "def covariance_matrix(X_centered: 'Matrix') -> 'Matrix':\n",
        "  # Определяем число n, как количество строк\n",
        "  n = X_centered.rows\n",
        "  if n == 1:\n",
        "    raise ValueError(\"Матрица должна иметь больше одной строки\")\n",
        "  # Вычисляем транспонированную матрицу\n",
        "  X_T = X_centered.transpose_data()\n",
        "  # Умножаем слева транспонированную матрицу на исходную\n",
        "  X_TX = X_T.multiply(X_centered)\n",
        "\n",
        "  covariated = X_TX.multiply_scalar(1 / (n - 1))\n",
        "  return covariated"
      ],
      "metadata": {
        "id": "CNOo6I-hpIk_"
      },
      "execution_count": null,
      "outputs": []
    },
    {
      "cell_type": "markdown",
      "source": [
        "# **Пример вычисленной матрицы ковариаций**"
      ],
      "metadata": {
        "id": "WCRiE11ijWaA"
      }
    },
    {
      "cell_type": "code",
      "source": [
        "# Центрированная матрица C\n",
        "C = center_data(Matrix([[1, 2, 3],\n",
        "     [4, 5, 6],\n",
        "     [7, 8, 9],\n",
        "     [10, 11, 12]]))\n",
        "\n",
        "print(covariance_matrix(C))"
      ],
      "metadata": {
        "colab": {
          "base_uri": "https://localhost:8080/"
        },
        "id": "8SKCjxNRidGp",
        "outputId": "c265a1af-7bd0-439e-d32d-494283d1342e"
      },
      "execution_count": null,
      "outputs": [
        {
          "output_type": "stream",
          "name": "stdout",
          "text": [
            "15.0000\t15.0000\t15.0000\n",
            "15.0000\t15.0000\t15.0000\n",
            "15.0000\t15.0000\t15.0000\n"
          ]
        }
      ]
    },
    {
      "cell_type": "markdown",
      "source": [
        "# **Пример, когда матрицы ковариаций не существует (количество строк равно 1)**"
      ],
      "metadata": {
        "id": "GdzVqLKQjfMz"
      }
    },
    {
      "cell_type": "code",
      "source": [
        "# Инициализация центрированной матрицы 1x1\n",
        "N = center_data(Matrix([[4]]))\n",
        "\n",
        "try:\n",
        "  print(covariance_matrix(N))\n",
        "except ValueError as e:\n",
        "  print(e)"
      ],
      "metadata": {
        "colab": {
          "base_uri": "https://localhost:8080/"
        },
        "id": "xgqGmVmAjTKn",
        "outputId": "909a83d9-4a77-4a58-ca88-2ce9123ec8c8"
      },
      "execution_count": null,
      "outputs": [
        {
          "output_type": "stream",
          "name": "stdout",
          "text": [
            "Матрица должна иметь больше одной строки\n"
          ]
        }
      ]
    },
    {
      "cell_type": "markdown",
      "source": [
        "# **Реализация функции поиска собственных значений методом бисекции**"
      ],
      "metadata": {
        "id": "qWVI-_KrAg9-"
      }
    },
    {
      "cell_type": "code",
      "source": [
        "# Функция для поиска интервала, в котором лежат собственные значения\n",
        "def find_interval(C: 'Matrix') -> List[float]:\n",
        "    n = C.rows\n",
        "\n",
        "    # Вычисляем максимальную сумму абсолютных значений недиагональных элементов по строкам\n",
        "    r = max([sum(abs(C[i][j]) for j in range(n) if i != j) for i in range(n)])\n",
        "\n",
        "    # Находим минимальное и максимальное значения диагональных элементов\n",
        "    d_min = min(C[i][i] for i in range(n))\n",
        "    d_max = max(C[i][i] for i in range(n))\n",
        "\n",
        "    # Вычисляем нижнюю и верхнюю границы интервала для собственных значений\n",
        "    min_lambda = d_min - r\n",
        "    max_lambda = d_max + r\n",
        "\n",
        "    return [min_lambda, max_lambda]\n",
        "\n",
        "# Функция поиска собственных значений\n",
        "def find_eigenvalues(C: 'Matrix', tol: float = 1e-7) -> List[float]:\n",
        "    poly = C.characteristic_polynomial()\n",
        "\n",
        "    eigenvalues = []\n",
        "\n",
        "    interval = find_interval(C)\n",
        "\n",
        "    start = interval[0]  # Начало интервала\n",
        "    step = (interval[1] - interval[0]) / 6666  # Делим интервал на 6666 частей для поиска\n",
        "\n",
        "    while start < interval[1]:\n",
        "        left = start  # Левая граница текущего отрезка\n",
        "        right = start + step  # Правая граница текущего отрезка\n",
        "        start += step\n",
        "\n",
        "        # Проверяем, есть ли корень на отрезке [left, right]\n",
        "        if poly(left) * poly(right) > 0:\n",
        "            continue  # Если знаки совпадают, корня нет, переходим к следующему отрезку\n",
        "\n",
        "        # Метод бисекции\n",
        "        while (right - left) / 2 > tol:\n",
        "            mid = (left + right) / 2\n",
        "            if poly(mid) == 0:\n",
        "                break\n",
        "            if poly(mid) * poly(right) < 0:\n",
        "                left = mid\n",
        "            else:\n",
        "                right = mid\n",
        "\n",
        "        eigenvalues.append(round((left + right) / 2, 6))\n",
        "\n",
        "    eigenvalues = [round(i, 6) for i in eigenvalues]\n",
        "\n",
        "    if 0 not in eigenvalues and poly(0) == 0:\n",
        "        eigenvalues.append(0)\n",
        "\n",
        "    return sorted(eigenvalues, reverse=True)"
      ],
      "metadata": {
        "id": "-ZyRP-hOug4o"
      },
      "execution_count": null,
      "outputs": []
    },
    {
      "cell_type": "markdown",
      "source": [
        "# **Пример поиска собственных значений**"
      ],
      "metadata": {
        "id": "PoLJ6pbLDJfN"
      }
    },
    {
      "cell_type": "code",
      "source": [
        "# Инициализация матрицы\n",
        "F = Matrix([[1, 2, 3], [4, 5, 6], [7, 8, -9]])\n",
        "\n",
        "print(find_eigenvalues(F))"
      ],
      "metadata": {
        "id": "ryU9hqnyz-fm",
        "colab": {
          "base_uri": "https://localhost:8080/"
        },
        "outputId": "c51795ef-6e76-486f-98cc-634b5f9a17dd"
      },
      "execution_count": null,
      "outputs": [
        {
          "output_type": "stream",
          "name": "stdout",
          "text": [
            "[10.059332, -0.424882, -12.63445]\n"
          ]
        }
      ]
    },
    {
      "cell_type": "markdown",
      "source": [
        "# **Пример для неквадратной матрицы**"
      ],
      "metadata": {
        "id": "HDEeHW1QDZPK"
      }
    },
    {
      "cell_type": "code",
      "source": [
        "# Инициализация неквадратной матрицы\n",
        "D = Matrix([[1, 2, 3, 4], [5, 6, 7, 8]])\n",
        "try:\n",
        "  print(find_eigenvalues(D))\n",
        "except ValueError as e:\n",
        "  print(e)"
      ],
      "metadata": {
        "id": "UXc6fzOj_SyG",
        "colab": {
          "base_uri": "https://localhost:8080/"
        },
        "outputId": "fc0af858-7a91-43da-c8f9-f72da13d861e"
      },
      "execution_count": null,
      "outputs": [
        {
          "output_type": "stream",
          "name": "stdout",
          "text": [
            "Характеристический многочлен определен только для квадратных матриц\n"
          ]
        }
      ]
    },
    {
      "cell_type": "markdown",
      "source": [
        "# **Собственные векторы матрицы С**"
      ],
      "metadata": {
        "id": "N1WIWwsh2aDQ"
      }
    },
    {
      "cell_type": "code",
      "source": [
        "def find_eigenvectors(C: Matrix, eigenvalues: List[float]) -> List[Matrix]:\n",
        "    eigenvectors = []\n",
        "    m = C.rows\n",
        "    for lambda_ in eigenvalues:\n",
        "        # Создаем матрицу (C - λI)\n",
        "        I = Matrix.identity(m)\n",
        "        lambda_I = I.multiply_scalar(lambda_)\n",
        "        C_minus_lambdaI = C - lambda_I\n",
        "\n",
        "        # Нулевой вектор правой части (m x 1)\n",
        "        zero_b = Matrix([[0.0] for _ in range(m)])\n",
        "\n",
        "        try:\n",
        "            # Решаем систему (C - λI)v = 0\n",
        "            solutions = gauss_solver(C_minus_lambdaI, zero_b)\n",
        "        except ValueError:\n",
        "            # Теоретически, для собственных значений система должна быть совместной\n",
        "            continue  # Пропускаем, если возникла ошибка (например, погрешности)\n",
        "\n",
        "        # Базисные векторы (решения) начинаются с индекса 1 так как нулевой вектор скип\n",
        "        for solution in solutions[1:]:\n",
        "            # Преобразуем вектор-строку в вектор-столбец\n",
        "            vec = solution.transpose_data()\n",
        "            eigenvectors.append(vec)\n",
        "\n",
        "    return eigenvectors"
      ],
      "metadata": {
        "id": "cyorvc0l2WhL"
      },
      "execution_count": null,
      "outputs": []
    },
    {
      "cell_type": "markdown",
      "source": [
        "# **Пример нахождения собственных векторов**"
      ],
      "metadata": {
        "id": "8zZAwvUV32F7"
      }
    },
    {
      "cell_type": "code",
      "source": [
        "C = Matrix([[1, 0, 0, 0, 0], [0, 2, 0, 0, 0], [0, 0, 3, 0, 0], [0, 0, 0, 4, 0], [0, 0, 0, 0, 5]])\n",
        "eigenvalues = find_eigenvalues(C)\n",
        "eigenvectors = find_eigenvectors(C, eigenvalues)\n",
        "\n",
        "print(\"Собственные значения:\", eigenvalues)\n",
        "print(\"Собственные векторы:\")\n",
        "for vec in eigenvectors:\n",
        "    print(vec)\n",
        "    print()\n",
        "print(len(eigenvectors))"
      ],
      "metadata": {
        "colab": {
          "base_uri": "https://localhost:8080/"
        },
        "id": "gS_sB6b732to",
        "outputId": "f2875019-2b61-4017-c699-683bb4223ebb"
      },
      "execution_count": null,
      "outputs": [
        {
          "output_type": "stream",
          "name": "stdout",
          "text": [
            "Собственные значения: [5.0, 4.0, 3.0, 2.0, 1.0]\n",
            "Собственные векторы:\n",
            "0.0000\n",
            "0.0000\n",
            "0.0000\n",
            "0.0000\n",
            "1.0000\n",
            "\n",
            "-0.0000\n",
            "-0.0000\n",
            "-0.0000\n",
            "1.0000\n",
            "-0.0000\n",
            "\n",
            "-0.0000\n",
            "-0.0000\n",
            "1.0000\n",
            "-0.0000\n",
            "-0.0000\n",
            "\n",
            "-0.0000\n",
            "1.0000\n",
            "-0.0000\n",
            "-0.0000\n",
            "-0.0000\n",
            "\n",
            "1.0000\n",
            "-0.0000\n",
            "-0.0000\n",
            "-0.0000\n",
            "-0.0000\n",
            "\n",
            "5\n"
          ]
        }
      ]
    },
    {
      "cell_type": "markdown",
      "source": [
        "#**Доля объясненной дисперсии**"
      ],
      "metadata": {
        "id": "piyXDYtX2V9B"
      }
    },
    {
      "cell_type": "code",
      "source": [
        "def explained_variance_ratio(eigenvalues: List[float], k: int) -> float:\n",
        "    #Доля объясненной дисперсии\n",
        "    if not eigenvalues:\n",
        "        raise ValueError(\"Список eigenvalues не может быть пустым\")\n",
        "    if k < 1 or k > len(eigenvalues):\n",
        "        raise ValueError(f\"k должно быть от 1 до {len(eigenvalues)}\")\n",
        "\n",
        "    # Сумма первых k собственных значений\n",
        "    sorted_eigenvalues = sorted(eigenvalues, reverse=True)\n",
        "    sum_top_k = sum(sorted_eigenvalues[:k])\n",
        "    # Общая сумма всех собственных значений\n",
        "    total_sum = sum(sorted_eigenvalues)\n",
        "\n",
        "    if total_sum == 0:\n",
        "        return 0.0  # Если все eigenvalues нулевые\n",
        "\n",
        "    return round(sum_top_k / total_sum, 6)"
      ],
      "metadata": {
        "id": "9PdlnidE_rDN"
      },
      "execution_count": null,
      "outputs": []
    },
    {
      "cell_type": "markdown",
      "source": [
        "#**Пример поиска доли объясненной дисперсии**"
      ],
      "metadata": {
        "id": "Bf0Uf8aVAIFI"
      }
    },
    {
      "cell_type": "code",
      "source": [
        "eigenvalues = [4.0, 3.0, 2.0]\n",
        "print(explained_variance_ratio(eigenvalues, 2))  # (4+3)/(4+3+2) = 7/9"
      ],
      "metadata": {
        "colab": {
          "base_uri": "https://localhost:8080/"
        },
        "id": "e2lSKNV6Ac0S",
        "outputId": "509200ae-3e99-4deb-97d3-937d9cb94d6d"
      },
      "execution_count": null,
      "outputs": [
        {
          "output_type": "stream",
          "name": "stdout",
          "text": [
            "0.7777777777777778\n"
          ]
        }
      ]
    },
    {
      "cell_type": "code",
      "source": [
        "eigenvalues = [4.0, 3.0, 2.0]\n",
        "try:\n",
        "  print(explained_variance_ratio(eigenvalues, 4))\n",
        "except ValueError as e:\n",
        "  print(e)"
      ],
      "metadata": {
        "colab": {
          "base_uri": "https://localhost:8080/"
        },
        "id": "1Q0Gj4fQAli1",
        "outputId": "6ddf73d5-8630-4ba0-d3bb-8d28f8eaf0b8"
      },
      "execution_count": null,
      "outputs": [
        {
          "output_type": "stream",
          "name": "stdout",
          "text": [
            "k должно быть от 1 до 3\n"
          ]
        }
      ]
    },
    {
      "cell_type": "markdown",
      "source": [
        "#**FULL алгоритм PCA (с автоматическим выбором k)**"
      ],
      "metadata": {
        "id": "2XobhBVxmw6S"
      }
    },
    {
      "cell_type": "code",
      "source": [
        "def auto_select_k(eigenvalues: List[float], threshold: float = 0.95) -> int:\n",
        "    \"\"\"\n",
        "    Автоматически выбирает k так, чтобы объясненная дисперсия была >= threshold.\n",
        "    Использует функцию `explained_variance_ratio` для расчетов, избегая дублирования кода.\n",
        "    \"\"\"\n",
        "    if not eigenvalues:\n",
        "        return 0  # Пустой список -> 0 компонент\n",
        "\n",
        "    # Проверка на нулевую дисперсию\n",
        "    total_sum = sum(eigenvalues)\n",
        "    if total_sum == 0:\n",
        "        return 0\n",
        "\n",
        "    # Перебираем k от 1 до m, пока не достигнем порога\n",
        "    for k in range(1, len(eigenvalues) + 1):\n",
        "        current_ratio = explained_variance_ratio(eigenvalues, k)\n",
        "        if current_ratio >= threshold:\n",
        "            return k\n",
        "\n",
        "    # Если порог не достигнут, возвращаем все компоненты\n",
        "    return len(eigenvalues)"
      ],
      "metadata": {
        "id": "paLTbEtwxoPQ"
      },
      "execution_count": null,
      "outputs": []
    },
    {
      "cell_type": "markdown",
      "source": [
        "#**Примеры автоматического выбора k**"
      ],
      "metadata": {
        "id": "Jzy5ISM2VlNO"
      }
    },
    {
      "cell_type": "code",
      "source": [
        "eigenvalues1 = [3.0, 2.0, 1.0, 0.5]\n",
        "k1 = auto_select_k(eigenvalues1, threshold=0.95) # Базовый случай\n",
        "eigenvalues2 = [10.0, 1.0, 0.1, 0.01]\n",
        "k2 = auto_select_k(eigenvalues2, threshold=0.95) # Порог достигается рано\n",
        "eigenvalues3 = [1.0, 1.0, 1.0]\n",
        "k3 = auto_select_k(eigenvalues3, threshold=0.99) # Все компоненты нужны\n",
        "print(f\"k1 = {k1}\")\n",
        "print(f\"k2 = {k2}\")\n",
        "print(f\"k3 = {k3}\")"
      ],
      "metadata": {
        "colab": {
          "base_uri": "https://localhost:8080/"
        },
        "id": "h7sCqQWRVxya",
        "outputId": "7dc4f7af-5d0c-477f-8f1f-020b1a720ac5"
      },
      "execution_count": null,
      "outputs": [
        {
          "output_type": "stream",
          "name": "stdout",
          "text": [
            "k1 = 4\n",
            "k2 = 2\n",
            "k3 = 3\n"
          ]
        }
      ]
    },
    {
      "cell_type": "code",
      "source": [
        "def pca(X: 'Matrix', k: int = None, threshold: float = 0.95) -> Tuple['Matrix', float, 'Matrix']:\n",
        "    X_centered = center_data(X)\n",
        "    C = covariance_matrix(X_centered)\n",
        "    eigenvalues = find_eigenvalues(C)\n",
        "    eigenvectors = find_eigenvectors(C, eigenvalues)\n",
        "    num_eigenvectors = len(eigenvectors)\n",
        "    print(\"eigenvalues\", eigenvalues)\n",
        "    print(\"eigenvectors\", eigenvectors)\n",
        "    print(C)\n",
        "    if k is None:\n",
        "        sorted_eigenvalues = sorted(eigenvalues, reverse=True)\n",
        "        selected_k = auto_select_k(sorted_eigenvalues, threshold)\n",
        "    else:\n",
        "        if k < 1 or k > len(eigenvalues):\n",
        "            raise ValueError(f\"k должно быть от 1 до {len(eigenvalues)}\")\n",
        "        selected_k = k\n",
        "    print(\"sel_k1\", selected_k)\n",
        "    print(\"sel_k2\", selected_k)\n",
        "    # Нормализация собственных векторов\n",
        "    for vec in eigenvectors:\n",
        "        # Вычисление нормы (длины) вектора\n",
        "        norm = sum(x**2 for row in vec.data for x in row) ** 0.5\n",
        "        if norm == 0:\n",
        "            raise ValueError(\"Нулевой собственный вектор\")\n",
        "        # Нормировка каждого элемента вектора\n",
        "        vec.data = [[x / norm for x in row] for row in vec.data]\n",
        "\n",
        "    feats = X.cols\n",
        "    W_data = []\n",
        "    for i in range(feats):\n",
        "        row = []\n",
        "        for j in range(selected_k):\n",
        "            if len(eigenvectors[j].data) == 1:\n",
        "              row.append(eigenvectors[j].data[0][i])\n",
        "            else:\n",
        "              row.append(eigenvectors[j].data[i][0])\n",
        "        W_data.append(row)\n",
        "    W = Matrix(W_data)\n",
        "\n",
        "    X_proj = X_centered.multiply(W)\n",
        "    explained_variance = explained_variance_ratio(eigenvalues, selected_k)\n",
        "\n",
        "    return (X_proj, explained_variance, W)"
      ],
      "metadata": {
        "id": "_eIDUjlyeTEs"
      },
      "execution_count": null,
      "outputs": []
    },
    {
      "cell_type": "markdown",
      "source": [
        "#**Пример работы алгоритма РСА**"
      ],
      "metadata": {
        "id": "gt7COtPqm_Vk"
      }
    },
    {
      "cell_type": "code",
      "source": [
        "X = Matrix([[14, 88], [13, 37]])\n",
        "# PCA для автоматически выбранного k\n",
        "X_proj, variance_ratio, _ = pca(X, k=None)\n",
        "\n",
        "print(\"Проекция данных:\")\n",
        "print(X_proj)\n",
        "print(f\"\\nДоля объясненной дисперсии: {variance_ratio}\")"
      ],
      "metadata": {
        "colab": {
          "base_uri": "https://localhost:8080/"
        },
        "id": "9aJ2r6K1hSK5",
        "outputId": "67f1b137-0cd7-41e3-9d54-b51a8291b71c"
      },
      "execution_count": null,
      "outputs": [
        {
          "output_type": "stream",
          "name": "stdout",
          "text": [
            "Проекция данных:\n",
            "25.5049\n",
            "-25.5049\n",
            "\n",
            "Доля объясненной дисперсии: 1.0\n"
          ]
        }
      ]
    },
    {
      "cell_type": "code",
      "source": [
        "def plot_pca_projection(X_proj: 'Matrix') -> Figure:\n",
        "  # Фигура и оси\n",
        "  fig = Figure(figsize=(8, 6))\n",
        "  ax = fig.add_subplot(111)\n",
        "\n",
        "  num_components = X_proj.cols\n",
        "  # Компоненты отсутсвуют\n",
        "  if num_components == 0:\n",
        "      ax.text(0.5, 0.5, \"Нет данных для визуализации\", ha='center')\n",
        "\n",
        "  # Одна компонента\n",
        "  elif num_components == 1:\n",
        "      # Берем значения первой компоненты для всех точек\n",
        "      x = [row[0] for row in X_proj.data]\n",
        "      # Создаем нули для оси Y (чтобы точки были на одной линии)\n",
        "      y = [0] * len(x)\n",
        "\n",
        "      ax.scatter(x, y, alpha=0.7, edgecolors=\"k\", s=50)\n",
        "      ax.set_xlabel(\"1-ая компонента\", fontsize=12)\n",
        "      ax.set_ylabel(\"Нет второй компоненты\", fontsize=12)\n",
        "\n",
        "  # Две и больше компонент\n",
        "  else:\n",
        "\n",
        "      # Берем первые две компоненты\n",
        "      x = [row[0] for row in X_proj.data]\n",
        "      y = [row[1] for row in X_proj.data]\n",
        "\n",
        "      ax.scatter(x, y, alpha=0.7, edgecolors=\"k\", s=50)\n",
        "      ax.set_xlabel(\"1-ая компонента\", fontsize=12)\n",
        "      ax.set_ylabel(\"2-ая компонента\", fontsize=12)\n",
        "\n",
        "  ax.set_title(\"Проекция данных на главные компоненты\", fontsize=14)\n",
        "  ax.grid(True, linestyle=\"--\", alpha=0.5)\n",
        "  return fig"
      ],
      "metadata": {
        "id": "IIhpwvWem_BI"
      },
      "execution_count": null,
      "outputs": []
    },
    {
      "cell_type": "markdown",
      "source": [
        "#**Пример визуализации проекции**"
      ],
      "metadata": {
        "id": "HPytrPT8wPI8"
      }
    },
    {
      "cell_type": "code",
      "source": [
        "Y = Matrix([[14, 88], [13, 37]])\n",
        "Y_proj, explained_var, _ = pca(Y, k=None, threshold=0.95)\n",
        "fig = plot_pca_projection(X_proj)\n",
        "\n",
        "display(fig)"
      ],
      "metadata": {
        "colab": {
          "base_uri": "https://localhost:8080/",
          "height": 569
        },
        "id": "aYRqdwMZq0VT",
        "outputId": "5397ce9c-500b-4426-bf99-b3bbf071073a"
      },
      "execution_count": null,
      "outputs": [
        {
          "output_type": "display_data",
          "data": {
            "text/plain": [
              "<Figure size 800x600 with 1 Axes>"
            ],
            "image/png": "[encoded data removed]"
          },
          "metadata": {}
        }
      ]
    },
    {
      "cell_type": "markdown",
      "source": [
        "#**Среднеквадратическая ошибка восстановления данных**"
      ],
      "metadata": {
        "id": "yRLJ6o2xsIxX"
      }
    },
    {
      "cell_type": "code",
      "source": [
        "def reconstruction_error(X_orig: Matrix, X_recon: Matrix) -> float:\n",
        "    # Вычисляет среднеквадратическую ошибку (MSE) между исходными и восстановленными данными.\n",
        "    # Проверка совпадения размеров матриц\n",
        "    if X_orig.rows != X_recon.rows or X_orig.cols != X_recon.cols:\n",
        "        raise ValueError(\"Матрицы X_orig и X_recon должны иметь одинаковые размеры\")\n",
        "\n",
        "    n, m = X_orig.rows, X_orig.cols\n",
        "    total_error = 0.0\n",
        "\n",
        "    # Поэлементное вычисление суммы квадратов ошибок\n",
        "    for i in range(n):\n",
        "        for j in range(m):\n",
        "            diff = X_orig[i][j] - X_recon[i][j]\n",
        "            total_error += diff ** 2\n",
        "\n",
        "    # Вычисление MSE\n",
        "    mse = total_error / (n * m)\n",
        "    return round(mse, 6)"
      ],
      "metadata": {
        "id": "v89zK75BsJU_"
      },
      "execution_count": null,
      "outputs": []
    },
    {
      "cell_type": "markdown",
      "source": [
        "#**Проверка MSE**"
      ],
      "metadata": {
        "id": "E3cXCiWDvM2V"
      }
    },
    {
      "cell_type": "code",
      "source": [
        "# 1. Создаем данные\n",
        "X = Matrix([\n",
        "    [1.0, 2.0],\n",
        "    [3.0, 4.0],\n",
        "    [5.0, 6.0]\n",
        "])\n",
        "X_centered = center_data(X)\n",
        "\n",
        "C = covariance_matrix(X_centered)\n",
        "\n",
        "eigenvalues = find_eigenvalues(C)\n",
        "eigenvectors = find_eigenvectors(C, eigenvalues)\n",
        "# 2. Применяем PCA\n",
        "X_proj, _, W = pca(X)\n",
        "\n",
        "# 3. Восстанавливаем данные: X_recon = X_proj * W^T + mean\n",
        "W_T = W.transpose_data()\n",
        "X_recon = X_proj.multiply(W_T)\n",
        "\n",
        "# Добавляем средние значения\n",
        "mean = [sum(row[j] for row in X.data) / X.rows for j in range(X.cols)]\n",
        "mean_matrix = Matrix([[mean[j] for j in range(X.cols)] for _ in range(X.rows)])\n",
        "X_recon = X_recon.add(mean_matrix)\n",
        "\n",
        "# 4. Проверяем MSE\n",
        "error = reconstruction_error(X, X_recon)\n",
        "print(f\"MSE: {error:.6f}\")"
      ],
      "metadata": {
        "colab": {
          "base_uri": "https://localhost:8080/"
        },
        "id": "pAeRQYZ8vNQa",
        "outputId": "5d379dac-a183-44b0-8dfb-afda42a3840f"
      },
      "execution_count": null,
      "outputs": [
        {
          "output_type": "stream",
          "name": "stdout",
          "text": [
            "MSE: 0.000000\n"
          ]
        }
      ]
    },
    {
      "cell_type": "markdown",
      "source": [
        "#**Обработка пропущенных значений**"
      ],
      "metadata": {
        "id": "5oXig3nPD0rP"
      }
    },
    {
      "cell_type": "code",
      "source": [
        "def handle_missing_values(X: Matrix) -> Matrix:\n",
        "    # Заменяет пропущенные значения (NaN) в матрице на средние значения столбцов.\n",
        "    filled_data = [row.copy() for row in X.data]\n",
        "    n, m = X.rows, X.cols\n",
        "\n",
        "    # Вычисляем средние значения для каждого столбца (игнорируя NaN)\n",
        "    column_means = []\n",
        "    for j in range(m):\n",
        "        column_values = []\n",
        "        for i in range(n):\n",
        "            val = filled_data[i][j]\n",
        "            if not isnan(val):\n",
        "                column_values.append(val)\n",
        "\n",
        "        if not column_values:\n",
        "            raise ValueError(f\"Столбец {j} полностью состоит из NaN\")\n",
        "\n",
        "        mean = sum(column_values) / len(column_values)\n",
        "        column_means.append(mean)\n",
        "\n",
        "    # Заменяем NaN на средние значения\n",
        "    for i in range(n):\n",
        "        for j in range(m):\n",
        "            if isnan(filled_data[i][j]):\n",
        "                filled_data[i][j] = column_means[j]\n",
        "\n",
        "    return Matrix(filled_data)"
      ],
      "metadata": {
        "id": "u0Nr8mWkEaQC"
      },
      "execution_count": null,
      "outputs": []
    },
    {
      "cell_type": "markdown",
      "source": [
        "#**Пример обработки**"
      ],
      "metadata": {
        "id": "LQZf9Sv5GPpL"
      }
    },
    {
      "cell_type": "code",
      "source": [
        "X = Matrix([\n",
        "    [52.0, float('NaN'), 3.0],\n",
        "    [float('NaN'), 11.0, 3.0],\n",
        "    [7.0, 63.0, float('NaN')]\n",
        "])\n",
        "\n",
        "X_filled = handle_missing_values(X)\n",
        "print(X)\n",
        "print()\n",
        "print(X_filled)"
      ],
      "metadata": {
        "colab": {
          "base_uri": "https://localhost:8080/"
        },
        "id": "S3QXkN4pGVYM",
        "outputId": "6530243b-1511-4599-e2ce-47aee6ed6c27"
      },
      "execution_count": null,
      "outputs": [
        {
          "output_type": "stream",
          "name": "stdout",
          "text": [
            "52.0000\tnan\t3.0000\n",
            "nan\t11.0000\t3.0000\n",
            "7.0000\t63.0000\tnan\n",
            "\n",
            "52.0000\t37.0000\t3.0000\n",
            "29.5000\t11.0000\t3.0000\n",
            "7.0000\t63.0000\t3.0000\n"
          ]
        }
      ]
    },
    {
      "cell_type": "markdown",
      "source": [
        "#**Исследования влияния шума на PCA**"
      ],
      "metadata": {
        "id": "bMmCeSi2pNNM"
      }
    },
    {
      "cell_type": "code",
      "source": [
        "def _normal_distribution(mu=0, sigma=1):\n",
        "  \"\"\"Генератор нормального распределения\"\"\"\n",
        "  while True:\n",
        "    u1 = random.random()\n",
        "    u2 = random.random()\n",
        "    # Применяем формулу Бокса-Мюллера для получения нормального распределения\n",
        "    z0 = math.sqrt(-2.0 * math.log(u1)) * math.cos(2 * math.pi * u2)\n",
        "    yield z0 * sigma + mu\n",
        "\n",
        "def add_noise_and_compare(X: 'Matrix', noise_level: float = 0.1) -> Dict[str, Any]:\n",
        "  # PCA для исходных данных\n",
        "  X_centered = center_data(X)\n",
        "  C = covariance_matrix(X_centered)\n",
        "  eigenvalues_orig = find_eigenvalues(C)\n",
        "  X_proj_orig, var_orig, _ = pca(X, k=None)\n",
        "  fig_orig = plot_pca_projection(X_proj_orig)\n",
        "\n",
        "  # Генерация шума\n",
        "  gen = _normal_distribution()\n",
        "  # Список для хранения шума по каждому столбцу\n",
        "  noise_data = []\n",
        "  for column in range(X.cols):\n",
        "    # Извлекаем столбец как матрицу (вектор-столбец)\n",
        "    col_data = Matrix([[X[rows][column]] for rows in range(X.rows)])\n",
        "    std = col_data._std()\n",
        "    # Генерируем шум для каждой строки с учетом уровня шума и std\n",
        "    noise = [next(gen) * noise_level * std for _ in range(X.rows)]\n",
        "    noise_data.append(noise)\n",
        "\n",
        "  noise_data = Matrix(noise_data)\n",
        "  X_noise = noise_data.transpose_data()\n",
        "\n",
        "  X_centered_noise = center_data(X_noise)\n",
        "  C_noise = covariance_matrix(X_centered_noise)\n",
        "  eigenvalues_noise = find_eigenvalues(C_noise)\n",
        "  X_proj_noise, var_noisy, _ = pca(X_noise, k=None)\n",
        "  fig_noise = plot_pca_projection(X_proj_noise)\n",
        "\n",
        "  return {\n",
        "      # Исходные данные\n",
        "      \"original\": {\n",
        "          \"eigenvalues\": eigenvalues_orig,\n",
        "          \"explained_var\": [explained_variance_ratio(eigenvalues_orig, k+1)\n",
        "                          for k in range(len(eigenvalues_orig))],\n",
        "          \"plot\": fig_orig\n",
        "      },\n",
        "      # Шум\n",
        "      \"noisy\": {\n",
        "          \"eigenvalues\": eigenvalues_noise,\n",
        "          \"explained_var\": [explained_variance_ratio(eigenvalues_noise, k+1)\n",
        "                          for k in range(len(eigenvalues_noise))],\n",
        "          \"plot\": fig_noise\n",
        "      },\n",
        "      # Различия\n",
        "      \"differences\": {\n",
        "          \"eigenvalues\": [abs(e1 - e2) for e1, e2 in\n",
        "                          zip(eigenvalues_orig, eigenvalues_noise)],\n",
        "          \"explained_var\": abs(var_orig - var_noisy)\n",
        "      }\n",
        "  }"
      ],
      "metadata": {
        "id": "F8OFwTo5WP0p"
      },
      "execution_count": null,
      "outputs": []
    },
    {
      "cell_type": "markdown",
      "source": [
        "#**Визуализация данных**"
      ],
      "metadata": {
        "id": "kDTR7TrLpUTw"
      }
    },
    {
      "cell_type": "code",
      "source": [
        "F = Matrix([[14, 88, 99], [13, 37, 44], [33, 22, 11]])\n",
        "results = add_noise_and_compare(F, noise_level=0.2)\n",
        "\n",
        "display(results[\"original\"][\"plot\"])\n",
        "display(results[\"noisy\"][\"plot\"])\n",
        "print(\"Собственные значения (исходные данные):\", results[\"original\"][\"eigenvalues\"])\n",
        "print(\"Собственные значения (шум):\", results[\"noisy\"][\"eigenvalues\"])\n",
        "print(\"Разница в дисперсии:\", results[\"differences\"][\"explained_var\"])"
      ],
      "metadata": {
        "colab": {
          "base_uri": "https://localhost:8080/",
          "height": 1000
        },
        "id": "CZ6wff5ycJrv",
        "outputId": "e28f0bcf-9719-405f-fcdb-ea31169d430f"
      },
      "execution_count": null,
      "outputs": [
        {
          "output_type": "display_data",
          "data": {
            "text/plain": [
              "<Figure size 800x600 with 1 Axes>"
            ],
            "image/png": "[encoded data removed]"
          },
          "metadata": {}
        },
        {
          "output_type": "display_data",
          "data": {
            "text/plain": [
              "<Figure size 800x600 with 1 Axes>"
            ],
            "image/png": "[encoded data removed]"
          },
          "metadata": {}
        },
        {
          "output_type": "stream",
          "name": "stdout",
          "text": [
            "Собственные значения (исходные данные): [3220.345062, 79.988271, 0.0]\n",
            "Собственные значения (шум): [188.939116, 29.655865, 0.0]\n",
            "Разница в дисперсии: 0.11142938739223074\n"
          ]
        }
      ]
    },
    {
      "cell_type": "markdown",
      "source": [
        "#**Применение РСА к реальному датасету**"
      ],
      "metadata": {
        "id": "BhSHftLTc2BG"
      }
    },
    {
      "cell_type": "code",
      "source": [
        "def load_csv_to_matrix(file_path: str, has_header: bool = True) -> Matrix:\n",
        "  \"\"\"Загружает CSV-файл в объект Matrix\"\"\"\n",
        "  data = []\n",
        "  with open(file_path, 'r', encoding='utf-8') as f:\n",
        "      reader = csv.reader(f)\n",
        "      if has_header:\n",
        "          next(reader)\n",
        "      for row in reader:\n",
        "          try:\n",
        "              # Преобразуем все значения в float\n",
        "              float_row = [float(x) for x in row]\n",
        "              data.append(float_row)\n",
        "          except ValueError as e:\n",
        "              raise ValueError(f\"Ошибка преобразования данных в float: {row}\") from e\n",
        "  return Matrix(data)\n",
        "\n",
        "def apply_pca_to_csv(file_path: str, k: int, has_header: bool = True) -> Tuple[Matrix, float]:\n",
        "    # Загрузка данных\n",
        "    try:\n",
        "        X = load_csv_to_matrix(file_path, has_header)\n",
        "    except FileNotFoundError:\n",
        "        raise FileNotFoundError(f\"Файл {file_path} не найден\")\n",
        "\n",
        "    # Применение PCA\n",
        "    X_proj, explained_var, _ = pca(X, k=k)\n",
        "\n",
        "    return X_proj, explained_var"
      ],
      "metadata": {
        "id": "IHJmBDewNOOK"
      },
      "execution_count": null,
      "outputs": []
    }
  ]
}